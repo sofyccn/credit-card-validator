{
 "cells": [
  {
   "cell_type": "markdown",
   "metadata": {},
   "source": [
    "# Credit card validation using DFAS"
   ]
  },
  {
   "cell_type": "markdown",
   "metadata": {},
   "source": [
    "Conditions:\n",
    "1. All American Express numbers start with 34 or 37, 15-digit numbers\n",
    "2. Most MasterCard numbers start with 51, 52, 53, 54, or 55 (they also have some other potential starting numbers which we won’t concern ourselves with for this problem)- 16 digit numbers\n",
    "3. Visa numbers start with 4. 13- and 16-digit numbers. \n",
    "4. Fulfill Luhn’s Algorithm\n",
    "\n",
    "- Multiply every other digit by 2, starting with the number’s second-to-last digit, and then add those products’ digits together.\n",
    "- Add the sum to the sum of the digits that weren’t multiplied by 2.\n",
    "- If the total’s last digit is 0 (or, put more formally, if the total modulo 10 is congruent to 0), the number is valid!\n"
   ]
  },
  {
   "cell_type": "code",
   "execution_count": 1,
   "metadata": {},
   "outputs": [],
   "source": [
    "CREDIT_CARD_NUMBER = 4111111111111111"
   ]
  },
  {
   "cell_type": "markdown",
   "metadata": {},
   "source": [
    "# Standard algorithm \n"
   ]
  },
  {
   "cell_type": "code",
   "execution_count": 2,
   "metadata": {},
   "outputs": [
    {
     "name": "stdout",
     "output_type": "stream",
     "text": [
      "Standard Validation Result: VISA\n"
     ]
    }
   ],
   "source": [
    "def validate_credit_card(number):\n",
    "    # Cast to string, dealing with digits only\n",
    "    number = str(number)\n",
    "    # count digits\n",
    "    n = len(number)\n",
    "    \n",
    "    # Check valid lengths\n",
    "    if n not in [13, 15, 16]:\n",
    "        return \"INVALID\"\n",
    "    \n",
    "    # Luhn's algorithm: Process from right to left\n",
    "    total_sum = 0\n",
    "    for i in range(n):\n",
    "        digit = int(number[n - 1 - i])\n",
    "        if i % 2 == 1:  # Starting from Second-to-last digit and every other digit\n",
    "            doubled = digit * 2\n",
    "            # If doubled value is greater than 9(two digit number), sum the digits, not the number\n",
    "            total_sum += (doubled // 10) + (doubled % 10) if doubled >= 10 else doubled\n",
    "        else:\n",
    "            # Add the digits that are not doubled\n",
    "            total_sum += digit\n",
    "\n",
    "    #check for Lunh's algorithm validity\n",
    "    if total_sum % 10 != 0:\n",
    "        return \"INVALID\"\n",
    "    \n",
    "    # If we havent returned invalid, means it passed Lunhs algorithm, so Determine card type\n",
    "    first_digit = number[0]\n",
    "    first_two = number[:2]\n",
    "    \n",
    "    if first_two in [\"34\", \"37\"] and n == 15:\n",
    "        return \"AMEX\"\n",
    "    elif first_two in [\"51\", \"52\", \"53\", \"54\", \"55\"] and n == 16:\n",
    "        return \"MASTERCARD\"\n",
    "    elif first_digit == \"4\" and n in [13, 16]:\n",
    "        return \"VISA\"\n",
    "    else:\n",
    "        return \"INVALID\"\n",
    "\n",
    "# Test the standard validator\n",
    "result = validate_credit_card(CREDIT_CARD_NUMBER)\n",
    "print(f\"Standard Validation Result: {result}\")"
   ]
  },
  {
   "cell_type": "markdown",
   "metadata": {},
   "source": [
    "# DFA algorithm\n",
    "(A python implementation of a DFA)"
   ]
  },
  {
   "cell_type": "code",
   "execution_count": 3,
   "metadata": {},
   "outputs": [
    {
     "name": "stdout",
     "output_type": "stream",
     "text": [
      "DFA Validation Result: VISA\n"
     ]
    }
   ],
   "source": [
    "#DFA implementation of the credit card validation algorithm\n",
    "# Three helper functions: 1.update the Luhn sum(as we read digits), 2.state transitions, and determine final card type.\n",
    "def update_sum(current_sum, digit, k, n):\n",
    "    \"\"\"\n",
    "    When called, Updates the Luhn sum for the DIGIT at position k (from left) for a total length n.\n",
    "    Doubles the digit if its position from the right (n - k + 1) is even.\n",
    "    \"\"\"\n",
    "    #cast to int\n",
    "    digit = int(digit)\n",
    "    # Multiply every other digit by 2, starting with the number’s second-to-last digit\n",
    "    # Double if (n - k + 1) is even: for odd n, k even; for even n, k odd\n",
    "    if (n % 2 == 0 and k % 2 == 1) or (n % 2 == 1 and k % 2 == 0):\n",
    "        doubled = digit * 2\n",
    "        add = (doubled // 10) + (doubled % 10)\n",
    "    else:\n",
    "        add = digit\n",
    "    return (current_sum + add) % 10\n",
    "\n",
    "def next_state(state, digit):\n",
    "    \"\"\"\n",
    "    Computes the next DFA state based on the current state and input digit.\n",
    "    \"\"\"\n",
    "    # Handle invalid state\n",
    "    if state == \"invalid\":\n",
    "        return \"invalid\"\n",
    "    \n",
    "    # unpack the current state(type of current state, digit position in original number, and Luhn sum)\n",
    "    # a pointer keeps the rest of the information\n",
    "    type_, *rest = state\n",
    "    # Based on the first digit, the DFA transitions to a \"potential\" state \n",
    "    if type_ == \"start\":\n",
    "        if digit == \"3\":\n",
    "            return (\"potential_Amex\", 1, update_sum(0, digit, 1, 15))\n",
    "        elif digit == \"4\":\n",
    "            sum13 = update_sum(0, digit, 1, 13)\n",
    "            sum16 = update_sum(0, digit, 1, 16)\n",
    "            return (\"Visa\", 1, sum13, sum16)\n",
    "        elif digit == \"5\":\n",
    "            return (\"potential_MasterCard\", 1, update_sum(0, digit, 1, 16))\n",
    "        else:\n",
    "            return \"invalid\"\n",
    "    \n",
    "    # Transitions for potential states\n",
    "    # if the second digit is 4 or 7 for potential Amex go to \"Amex\" state\n",
    "    elif type_ == \"potential_Amex\":\n",
    "        pos, sum_mod10 = rest\n",
    "        if pos == 1 and digit in [\"4\", \"7\"]:\n",
    "            return (\"Amex\", 2, update_sum(sum_mod10, digit, 2, 15))\n",
    "        return \"invalid\"\n",
    "    # if the second digit is 1, 2, 3, 4, or 5 for potential MasterCard go to \"MasterCard\" state\n",
    "    elif type_ == \"potential_MasterCard\":\n",
    "        pos, sum_mod10 = rest\n",
    "        if pos == 1 and digit in [\"1\", \"2\", \"3\", \"4\", \"5\"]:\n",
    "            return (\"MasterCard\", 2, update_sum(sum_mod10, digit, 2, 16))\n",
    "        return \"invalid\"\n",
    "    \n",
    "    # Transitions for valid states\n",
    "    # if the type is Amex, MasterCard, or Visa, we continue processing digits\n",
    "    elif type_ == \"Amex\":\n",
    "        pos, sum_mod10 = rest\n",
    "        if pos < 15:\n",
    "            return (\"Amex\", pos + 1, update_sum(sum_mod10, digit, pos + 1, 15))\n",
    "        return \"invalid\"\n",
    "    \n",
    "    elif type_ == \"MasterCard\":\n",
    "        pos, sum_mod10 = rest\n",
    "        if pos < 16:\n",
    "            return (\"MasterCard\", pos + 1, update_sum(sum_mod10, digit, pos + 1, 16))\n",
    "        return \"invalid\"\n",
    "    \n",
    "    elif type_ == \"Visa\":\n",
    "        pos, sum13, sum16 = rest\n",
    "        if pos < 16:\n",
    "            new_sum13 = update_sum(sum13, digit, pos + 1, 13)\n",
    "            new_sum16 = update_sum(sum16, digit, pos + 1, 16)\n",
    "            return (\"Visa\", pos + 1, new_sum13, new_sum16)\n",
    "        return \"invalid\"\n",
    "    \n",
    "    return \"invalid\"\n",
    "\n",
    "def get_card_type(state):\n",
    "    \"\"\"\n",
    "    Determines the card type based on the final DFA state.\n",
    "    \"\"\"\n",
    "    if state == \"invalid\":\n",
    "        return \"INVALID\"\n",
    "    # unpack the final state(type of current state, digit position in original number, and Luhn sum)\n",
    "    type_, *rest = state\n",
    "    # check the type, final digitp postion(length), and Luhn sum %10 =0\n",
    "    if type_ == \"Amex\" and rest[0] == 15 and rest[1] == 0:\n",
    "        return \"AMEX\"\n",
    "    elif type_ == \"MasterCard\" and rest[0] == 16 and rest[1] == 0:\n",
    "        return \"MASTERCARD\"\n",
    "    elif type_ == \"Visa\":\n",
    "        pos, sum13, sum16 = rest\n",
    "        if pos == 13 and sum13 == 0:\n",
    "            return \"VISA\"\n",
    "        elif pos == 16 and sum16 == 0:\n",
    "            return \"VISA\"\n",
    "    return \"INVALID\"\n",
    "\n",
    "def dfa_validate(number):\n",
    "    \"\"\"\n",
    "    Validates a credit card number using a DFA.\n",
    "    \"\"\"\n",
    "    # initialize the DFA state\n",
    "    state = (\"start\",)\n",
    "    for digit in str(number):\n",
    "        state = next_state(state, digit)\n",
    "    return get_card_type(state)\n",
    "\n",
    "# Test the DFA validator\n",
    "result = dfa_validate(CREDIT_CARD_NUMBER)\n",
    "print(f\"DFA Validation Result: {result}\")"
   ]
  },
  {
   "cell_type": "markdown",
   "metadata": {},
   "source": [
    "# Standard Test Cards\n",
    "\n",
    "Taken from Pay Pal\n",
    "https://developer.paypal.com/api/nvp-soap/payflow/integration-guide/test-transactions/#standard-test-cards"
   ]
  },
  {
   "cell_type": "code",
   "execution_count": 4,
   "metadata": {},
   "outputs": [
    {
     "name": "stdout",
     "output_type": "stream",
     "text": [
      "                     Card_Type       Card_Number\n",
      "0             American Express   378282246310005\n",
      "1             American Express   371449635398431\n",
      "2   American Express Corporate   378734493671000\n",
      "3                  Diners Club    30569309025904\n",
      "4                     Discover  6011111111111110\n",
      "5                     Discover  6011000990139420\n",
      "6                          JCB  3530111333300000\n",
      "7                          JCB  3566002020360500\n",
      "8                   Mastercard  5555555555554444\n",
      "9                   Mastercard  5105105105105100\n",
      "10                        Visa  4111111111111111\n",
      "11                        Visa  4012888888881881\n",
      "12                        Visa  4999991111111113\n",
      "13                  Mastercard  5199999999999991\n",
      "14                        Visa  4999992222222229\n",
      "15                  Mastercard  5299999999999990\n",
      "16                        Fake   123456789101112\n"
     ]
    }
   ],
   "source": [
    "# Upload csv file with test cases\n",
    "import pandas as pd\n",
    "df_test_cases = pd.read_csv(\"Pay_pal_tests.csv\")\n",
    "# Display the dataframe\n",
    "print(df_test_cases)\n"
   ]
  },
  {
   "cell_type": "code",
   "execution_count": 5,
   "metadata": {},
   "outputs": [
    {
     "name": "stdout",
     "output_type": "stream",
     "text": [
      "Testing 378282246310005: Expected American Express, Got AMEX\n",
      "Testing 371449635398431: Expected American Express, Got AMEX\n",
      "Testing 378734493671000: Expected American Express Corporate, Got AMEX\n",
      "Testing 30569309025904: Expected Diners Club, Got INVALID\n",
      "Testing 6011111111111110: Expected Discover, Got INVALID\n",
      "Testing 6011000990139420: Expected Discover, Got INVALID\n",
      "Testing 3530111333300000: Expected JCB, Got INVALID\n",
      "Testing 3566002020360500: Expected JCB, Got INVALID\n",
      "Testing 5555555555554444: Expected Mastercard, Got MASTERCARD\n",
      "Testing 5105105105105100: Expected Mastercard, Got MASTERCARD\n",
      "Testing 4111111111111111: Expected Visa, Got VISA\n",
      "Testing 4012888888881881: Expected Visa, Got VISA\n",
      "Testing 4999991111111113: Expected Visa, Got VISA\n",
      "Testing 5199999999999991: Expected Mastercard, Got MASTERCARD\n",
      "Testing 4999992222222229: Expected Visa, Got VISA\n",
      "Testing 5299999999999990: Expected Mastercard, Got MASTERCARD\n",
      "Testing 123456789101112: Expected Fake, Got INVALID\n"
     ]
    }
   ],
   "source": [
    "# test the dfa algorithm with the test cases\n",
    "for index, row in df_test_cases.iterrows():\n",
    "    card_number = row['Card_Number']\n",
    "    expected_result = row['Card_Type']\n",
    "    result = dfa_validate(card_number)\n",
    "    print(f\"Testing {card_number}: Expected {expected_result}, Got {result}\")"
   ]
  },
  {
   "cell_type": "code",
   "execution_count": 6,
   "metadata": {},
   "outputs": [
    {
     "name": "stdout",
     "output_type": "stream",
     "text": [
      "Testing 378282246310005: Expected American Express, Got AMEX\n",
      "Testing 371449635398431: Expected American Express, Got AMEX\n",
      "Testing 378734493671000: Expected American Express Corporate, Got AMEX\n",
      "Testing 30569309025904: Expected Diners Club, Got INVALID\n",
      "Testing 6011111111111110: Expected Discover, Got INVALID\n",
      "Testing 6011000990139420: Expected Discover, Got INVALID\n",
      "Testing 3530111333300000: Expected JCB, Got INVALID\n",
      "Testing 3566002020360500: Expected JCB, Got INVALID\n",
      "Testing 5555555555554444: Expected Mastercard, Got MASTERCARD\n",
      "Testing 5105105105105100: Expected Mastercard, Got MASTERCARD\n",
      "Testing 4111111111111111: Expected Visa, Got VISA\n",
      "Testing 4012888888881881: Expected Visa, Got VISA\n",
      "Testing 4999991111111113: Expected Visa, Got VISA\n",
      "Testing 5199999999999991: Expected Mastercard, Got MASTERCARD\n",
      "Testing 4999992222222229: Expected Visa, Got VISA\n",
      "Testing 5299999999999990: Expected Mastercard, Got MASTERCARD\n",
      "Testing 123456789101112: Expected Fake, Got INVALID\n"
     ]
    }
   ],
   "source": [
    "# test the standard algorithm with the test cases\n",
    "for index, row in df_test_cases.iterrows():\n",
    "    card_number = row['Card_Number']\n",
    "    expected_result = row['Card_Type']\n",
    "    result = validate_credit_card(card_number)\n",
    "    print(f\"Testing {card_number}: Expected {expected_result}, Got {result}\")"
   ]
  },
  {
   "cell_type": "code",
   "execution_count": 7,
   "metadata": {},
   "outputs": [
    {
     "name": "stdout",
     "output_type": "stream",
     "text": [
      "Standard Algorithm: VISA, Average Time: 0.0000042561 seconds\n",
      "DFA Algorithm: VISA, Average Time: 0.0000199063 seconds\n",
      "Time Difference (DFA - Standard): 0.0000156502 seconds\n"
     ]
    }
   ],
   "source": [
    "# A quick performance comparison between the standard algorithm and the DFA algorithm\n",
    "#Taken from https://docs.python.org/3/library/time.html\n",
    "import time\n",
    "\n",
    "def measure_time(func, number, iterations=10000):\n",
    "    \"\"\"\n",
    "    Measures the average execution time of a function over multiple iterations.\n",
    "    \"\"\"\n",
    "    start = time.time()\n",
    "    for _ in range(iterations):\n",
    "        func(number)\n",
    "    end = time.time()\n",
    "    return func(number), (end - start) / iterations\n",
    "\n",
    "# Compare efficiency\n",
    "number = CREDIT_CARD_NUMBER\n",
    "result_std, time_std = measure_time(validate_credit_card, number)\n",
    "result_dfa, time_dfa = measure_time(dfa_validate, number)\n",
    "\n",
    "print(f\"Standard Algorithm: {result_std}, Average Time: {time_std:.10f} seconds\")\n",
    "print(f\"DFA Algorithm: {result_dfa}, Average Time: {time_dfa:.10f} seconds\")\n",
    "print(f\"Time Difference (DFA - Standard): {(time_dfa - time_std):.10f} seconds\")"
   ]
  },
  {
   "cell_type": "code",
   "execution_count": 8,
   "metadata": {},
   "outputs": [
    {
     "data": {
      "application/vnd.jupyter.widget-view+json": {
       "model_id": "98a1693df92d481dac93f3168184c485",
       "version_major": 2,
       "version_minor": 0
      },
      "text/plain": [
       "interactive(children=(Dropdown(description='card_number', options=(378282246310005, 371449635398431, 378734493…"
      ]
     },
     "metadata": {},
     "output_type": "display_data"
    },
    {
     "data": {
      "application/vnd.plotly.v1+json": {
       "config": {
        "plotlyServerURL": "https://plot.ly"
       },
       "data": [
        {
         "hoverinfo": "text",
         "hovertext": "Transition: 3",
         "line": {
          "color": "gray",
          "width": 1
         },
         "mode": "lines",
         "type": "scatter",
         "x": [
          0,
          -2,
          null
         ],
         "y": [
          0,
          -2,
          null
         ]
        },
        {
         "hoverinfo": "text",
         "hovertext": "Transition: 4",
         "line": {
          "color": "gray",
          "width": 1
         },
         "mode": "lines",
         "type": "scatter",
         "x": [
          0,
          0,
          null
         ],
         "y": [
          0,
          -4,
          null
         ]
        },
        {
         "hoverinfo": "text",
         "hovertext": "Transition: 5",
         "line": {
          "color": "gray",
          "width": 1
         },
         "mode": "lines",
         "type": "scatter",
         "x": [
          0,
          2,
          null
         ],
         "y": [
          0,
          -2,
          null
         ]
        },
        {
         "hoverinfo": "text",
         "hovertext": "Transition: [0-2,6-9]",
         "line": {
          "color": "gray",
          "width": 1
         },
         "mode": "lines",
         "type": "scatter",
         "x": [
          0,
          0,
          null
         ],
         "y": [
          0,
          -6,
          null
         ]
        },
        {
         "hoverinfo": "text",
         "hovertext": "Transition: [4,7]",
         "line": {
          "color": "gray",
          "width": 1
         },
         "mode": "lines",
         "type": "scatter",
         "x": [
          -2,
          -3,
          null
         ],
         "y": [
          -2,
          -4,
          null
         ]
        },
        {
         "hoverinfo": "text",
         "hovertext": "Transition: [0-3,5-6,8-9]",
         "line": {
          "color": "gray",
          "width": 1
         },
         "mode": "lines",
         "type": "scatter",
         "x": [
          -2,
          0,
          null
         ],
         "y": [
          -2,
          -6,
          null
         ]
        },
        {
         "hoverinfo": "text",
         "hovertext": "Transition: [1-5]",
         "line": {
          "color": "gray",
          "width": 1
         },
         "mode": "lines",
         "type": "scatter",
         "x": [
          2,
          3,
          null
         ],
         "y": [
          -2,
          -4,
          null
         ]
        },
        {
         "hoverinfo": "text",
         "hovertext": "Transition: [0,6-9]",
         "line": {
          "color": "gray",
          "width": 1
         },
         "mode": "lines",
         "type": "scatter",
         "x": [
          2,
          0,
          null
         ],
         "y": [
          -2,
          -6,
          null
         ]
        },
        {
         "hoverinfo": "text",
         "hovertext": "Transition: [0-9]\n(pos<15)",
         "line": {
          "color": "gray",
          "width": 1
         },
         "mode": "lines",
         "type": "scatter",
         "x": [
          -3,
          -3,
          null
         ],
         "y": [
          -4,
          -4,
          null
         ]
        },
        {
         "hoverinfo": "text",
         "hovertext": "Transition: [0-9]\n(pos=14)",
         "line": {
          "color": "gray",
          "width": 1
         },
         "mode": "lines",
         "type": "scatter",
         "x": [
          -3,
          -3,
          null
         ],
         "y": [
          -4,
          -5,
          null
         ]
        },
        {
         "hoverinfo": "text",
         "hovertext": "Transition: [0-9]\n(pos<16)",
         "line": {
          "color": "gray",
          "width": 1
         },
         "mode": "lines",
         "type": "scatter",
         "x": [
          3,
          3,
          null
         ],
         "y": [
          -4,
          -4,
          null
         ]
        },
        {
         "hoverinfo": "text",
         "hovertext": "Transition: [0-9]\n(pos=15)",
         "line": {
          "color": "gray",
          "width": 1
         },
         "mode": "lines",
         "type": "scatter",
         "x": [
          3,
          3,
          null
         ],
         "y": [
          -4,
          -5,
          null
         ]
        },
        {
         "hoverinfo": "text",
         "hovertext": "Transition: [0-9]\n(pos<16)",
         "line": {
          "color": "gray",
          "width": 1
         },
         "mode": "lines",
         "type": "scatter",
         "x": [
          0,
          0,
          null
         ],
         "y": [
          -4,
          -4,
          null
         ]
        },
        {
         "hoverinfo": "text",
         "hovertext": "Transition: [0-9]\n(pos=12)",
         "line": {
          "color": "gray",
          "width": 1
         },
         "mode": "lines",
         "type": "scatter",
         "x": [
          0,
          -1,
          null
         ],
         "y": [
          -4,
          -5,
          null
         ]
        },
        {
         "hoverinfo": "text",
         "hovertext": "Transition: [0-9]\n(pos=15)",
         "line": {
          "color": "gray",
          "width": 1
         },
         "mode": "lines",
         "type": "scatter",
         "x": [
          0,
          1,
          null
         ],
         "y": [
          -4,
          -5,
          null
         ]
        },
        {
         "hoverinfo": "text",
         "hovertext": "Transition: [0-9]\n(pos>=15)",
         "line": {
          "color": "gray",
          "width": 1
         },
         "mode": "lines",
         "type": "scatter",
         "x": [
          -3,
          0,
          null
         ],
         "y": [
          -4,
          -6,
          null
         ]
        },
        {
         "hoverinfo": "text",
         "hovertext": "Transition: [0-9]\n(pos>=16)",
         "line": {
          "color": "gray",
          "width": 1
         },
         "mode": "lines",
         "type": "scatter",
         "x": [
          3,
          0,
          null
         ],
         "y": [
          -4,
          -6,
          null
         ]
        },
        {
         "hoverinfo": "text",
         "hovertext": "Transition: [0-9]\n(pos>=16)",
         "line": {
          "color": "gray",
          "width": 1
         },
         "mode": "lines",
         "type": "scatter",
         "x": [
          0,
          0,
          null
         ],
         "y": [
          -4,
          -6,
          null
         ]
        },
        {
         "hoverinfo": "text",
         "hovertext": [
          "State: start",
          "State: potential_Amex",
          "State: Amex",
          "State: potential_MasterCard",
          "State: MasterCard",
          "State: Visa",
          "State: invalid",
          "State: Amex (pos=15, sum=0)",
          "State: MasterCard (pos=16, sum=0)",
          "State: Visa (pos=13, sum13=0)",
          "State: Visa (pos=16, sum16=0)"
         ],
         "marker": {
          "color": [
           "red",
           "red",
           "red",
           "LightSkyBlue",
           "LightSkyBlue",
           "LightSkyBlue",
           "LightSkyBlue",
           "red",
           "LightSkyBlue",
           "LightSkyBlue",
           "LightSkyBlue"
          ],
          "size": 20
         },
         "mode": "markers+text",
         "text": [
          "start",
          "potential_Amex",
          "Amex",
          "potential_MasterCard",
          "MasterCard",
          "Visa",
          "invalid",
          "Amex (pos=15, sum=0)",
          "MasterCard (pos=16, sum=0)",
          "Visa (pos=13, sum13=0)",
          "Visa (pos=16, sum16=0)"
         ],
         "textposition": "top center",
         "type": "scatter",
         "x": [
          0,
          -2,
          -3,
          2,
          3,
          0,
          0,
          -3,
          3,
          -1,
          1
         ],
         "y": [
          0,
          -2,
          -4,
          -2,
          -4,
          -4,
          -6,
          -5,
          -5,
          -5,
          -5
         ]
        }
       ],
       "layout": {
        "hovermode": "closest",
        "margin": {
         "b": 20,
         "l": 5,
         "r": 5,
         "t": 40
        },
        "showlegend": false,
        "template": {
         "data": {
          "bar": [
           {
            "error_x": {
             "color": "#2a3f5f"
            },
            "error_y": {
             "color": "#2a3f5f"
            },
            "marker": {
             "line": {
              "color": "#E5ECF6",
              "width": 0.5
             },
             "pattern": {
              "fillmode": "overlay",
              "size": 10,
              "solidity": 0.2
             }
            },
            "type": "bar"
           }
          ],
          "barpolar": [
           {
            "marker": {
             "line": {
              "color": "#E5ECF6",
              "width": 0.5
             },
             "pattern": {
              "fillmode": "overlay",
              "size": 10,
              "solidity": 0.2
             }
            },
            "type": "barpolar"
           }
          ],
          "carpet": [
           {
            "aaxis": {
             "endlinecolor": "#2a3f5f",
             "gridcolor": "white",
             "linecolor": "white",
             "minorgridcolor": "white",
             "startlinecolor": "#2a3f5f"
            },
            "baxis": {
             "endlinecolor": "#2a3f5f",
             "gridcolor": "white",
             "linecolor": "white",
             "minorgridcolor": "white",
             "startlinecolor": "#2a3f5f"
            },
            "type": "carpet"
           }
          ],
          "choropleth": [
           {
            "colorbar": {
             "outlinewidth": 0,
             "ticks": ""
            },
            "type": "choropleth"
           }
          ],
          "contour": [
           {
            "colorbar": {
             "outlinewidth": 0,
             "ticks": ""
            },
            "colorscale": [
             [
              0,
              "#0d0887"
             ],
             [
              0.1111111111111111,
              "#46039f"
             ],
             [
              0.2222222222222222,
              "#7201a8"
             ],
             [
              0.3333333333333333,
              "#9c179e"
             ],
             [
              0.4444444444444444,
              "#bd3786"
             ],
             [
              0.5555555555555556,
              "#d8576b"
             ],
             [
              0.6666666666666666,
              "#ed7953"
             ],
             [
              0.7777777777777778,
              "#fb9f3a"
             ],
             [
              0.8888888888888888,
              "#fdca26"
             ],
             [
              1,
              "#f0f921"
             ]
            ],
            "type": "contour"
           }
          ],
          "contourcarpet": [
           {
            "colorbar": {
             "outlinewidth": 0,
             "ticks": ""
            },
            "type": "contourcarpet"
           }
          ],
          "heatmap": [
           {
            "colorbar": {
             "outlinewidth": 0,
             "ticks": ""
            },
            "colorscale": [
             [
              0,
              "#0d0887"
             ],
             [
              0.1111111111111111,
              "#46039f"
             ],
             [
              0.2222222222222222,
              "#7201a8"
             ],
             [
              0.3333333333333333,
              "#9c179e"
             ],
             [
              0.4444444444444444,
              "#bd3786"
             ],
             [
              0.5555555555555556,
              "#d8576b"
             ],
             [
              0.6666666666666666,
              "#ed7953"
             ],
             [
              0.7777777777777778,
              "#fb9f3a"
             ],
             [
              0.8888888888888888,
              "#fdca26"
             ],
             [
              1,
              "#f0f921"
             ]
            ],
            "type": "heatmap"
           }
          ],
          "heatmapgl": [
           {
            "colorbar": {
             "outlinewidth": 0,
             "ticks": ""
            },
            "colorscale": [
             [
              0,
              "#0d0887"
             ],
             [
              0.1111111111111111,
              "#46039f"
             ],
             [
              0.2222222222222222,
              "#7201a8"
             ],
             [
              0.3333333333333333,
              "#9c179e"
             ],
             [
              0.4444444444444444,
              "#bd3786"
             ],
             [
              0.5555555555555556,
              "#d8576b"
             ],
             [
              0.6666666666666666,
              "#ed7953"
             ],
             [
              0.7777777777777778,
              "#fb9f3a"
             ],
             [
              0.8888888888888888,
              "#fdca26"
             ],
             [
              1,
              "#f0f921"
             ]
            ],
            "type": "heatmapgl"
           }
          ],
          "histogram": [
           {
            "marker": {
             "pattern": {
              "fillmode": "overlay",
              "size": 10,
              "solidity": 0.2
             }
            },
            "type": "histogram"
           }
          ],
          "histogram2d": [
           {
            "colorbar": {
             "outlinewidth": 0,
             "ticks": ""
            },
            "colorscale": [
             [
              0,
              "#0d0887"
             ],
             [
              0.1111111111111111,
              "#46039f"
             ],
             [
              0.2222222222222222,
              "#7201a8"
             ],
             [
              0.3333333333333333,
              "#9c179e"
             ],
             [
              0.4444444444444444,
              "#bd3786"
             ],
             [
              0.5555555555555556,
              "#d8576b"
             ],
             [
              0.6666666666666666,
              "#ed7953"
             ],
             [
              0.7777777777777778,
              "#fb9f3a"
             ],
             [
              0.8888888888888888,
              "#fdca26"
             ],
             [
              1,
              "#f0f921"
             ]
            ],
            "type": "histogram2d"
           }
          ],
          "histogram2dcontour": [
           {
            "colorbar": {
             "outlinewidth": 0,
             "ticks": ""
            },
            "colorscale": [
             [
              0,
              "#0d0887"
             ],
             [
              0.1111111111111111,
              "#46039f"
             ],
             [
              0.2222222222222222,
              "#7201a8"
             ],
             [
              0.3333333333333333,
              "#9c179e"
             ],
             [
              0.4444444444444444,
              "#bd3786"
             ],
             [
              0.5555555555555556,
              "#d8576b"
             ],
             [
              0.6666666666666666,
              "#ed7953"
             ],
             [
              0.7777777777777778,
              "#fb9f3a"
             ],
             [
              0.8888888888888888,
              "#fdca26"
             ],
             [
              1,
              "#f0f921"
             ]
            ],
            "type": "histogram2dcontour"
           }
          ],
          "mesh3d": [
           {
            "colorbar": {
             "outlinewidth": 0,
             "ticks": ""
            },
            "type": "mesh3d"
           }
          ],
          "parcoords": [
           {
            "line": {
             "colorbar": {
              "outlinewidth": 0,
              "ticks": ""
             }
            },
            "type": "parcoords"
           }
          ],
          "pie": [
           {
            "automargin": true,
            "type": "pie"
           }
          ],
          "scatter": [
           {
            "fillpattern": {
             "fillmode": "overlay",
             "size": 10,
             "solidity": 0.2
            },
            "type": "scatter"
           }
          ],
          "scatter3d": [
           {
            "line": {
             "colorbar": {
              "outlinewidth": 0,
              "ticks": ""
             }
            },
            "marker": {
             "colorbar": {
              "outlinewidth": 0,
              "ticks": ""
             }
            },
            "type": "scatter3d"
           }
          ],
          "scattercarpet": [
           {
            "marker": {
             "colorbar": {
              "outlinewidth": 0,
              "ticks": ""
             }
            },
            "type": "scattercarpet"
           }
          ],
          "scattergeo": [
           {
            "marker": {
             "colorbar": {
              "outlinewidth": 0,
              "ticks": ""
             }
            },
            "type": "scattergeo"
           }
          ],
          "scattergl": [
           {
            "marker": {
             "colorbar": {
              "outlinewidth": 0,
              "ticks": ""
             }
            },
            "type": "scattergl"
           }
          ],
          "scattermapbox": [
           {
            "marker": {
             "colorbar": {
              "outlinewidth": 0,
              "ticks": ""
             }
            },
            "type": "scattermapbox"
           }
          ],
          "scatterpolar": [
           {
            "marker": {
             "colorbar": {
              "outlinewidth": 0,
              "ticks": ""
             }
            },
            "type": "scatterpolar"
           }
          ],
          "scatterpolargl": [
           {
            "marker": {
             "colorbar": {
              "outlinewidth": 0,
              "ticks": ""
             }
            },
            "type": "scatterpolargl"
           }
          ],
          "scatterternary": [
           {
            "marker": {
             "colorbar": {
              "outlinewidth": 0,
              "ticks": ""
             }
            },
            "type": "scatterternary"
           }
          ],
          "surface": [
           {
            "colorbar": {
             "outlinewidth": 0,
             "ticks": ""
            },
            "colorscale": [
             [
              0,
              "#0d0887"
             ],
             [
              0.1111111111111111,
              "#46039f"
             ],
             [
              0.2222222222222222,
              "#7201a8"
             ],
             [
              0.3333333333333333,
              "#9c179e"
             ],
             [
              0.4444444444444444,
              "#bd3786"
             ],
             [
              0.5555555555555556,
              "#d8576b"
             ],
             [
              0.6666666666666666,
              "#ed7953"
             ],
             [
              0.7777777777777778,
              "#fb9f3a"
             ],
             [
              0.8888888888888888,
              "#fdca26"
             ],
             [
              1,
              "#f0f921"
             ]
            ],
            "type": "surface"
           }
          ],
          "table": [
           {
            "cells": {
             "fill": {
              "color": "#EBF0F8"
             },
             "line": {
              "color": "white"
             }
            },
            "header": {
             "fill": {
              "color": "#C8D4E3"
             },
             "line": {
              "color": "white"
             }
            },
            "type": "table"
           }
          ]
         },
         "layout": {
          "annotationdefaults": {
           "arrowcolor": "#2a3f5f",
           "arrowhead": 0,
           "arrowwidth": 1
          },
          "autotypenumbers": "strict",
          "coloraxis": {
           "colorbar": {
            "outlinewidth": 0,
            "ticks": ""
           }
          },
          "colorscale": {
           "diverging": [
            [
             0,
             "#8e0152"
            ],
            [
             0.1,
             "#c51b7d"
            ],
            [
             0.2,
             "#de77ae"
            ],
            [
             0.3,
             "#f1b6da"
            ],
            [
             0.4,
             "#fde0ef"
            ],
            [
             0.5,
             "#f7f7f7"
            ],
            [
             0.6,
             "#e6f5d0"
            ],
            [
             0.7,
             "#b8e186"
            ],
            [
             0.8,
             "#7fbc41"
            ],
            [
             0.9,
             "#4d9221"
            ],
            [
             1,
             "#276419"
            ]
           ],
           "sequential": [
            [
             0,
             "#0d0887"
            ],
            [
             0.1111111111111111,
             "#46039f"
            ],
            [
             0.2222222222222222,
             "#7201a8"
            ],
            [
             0.3333333333333333,
             "#9c179e"
            ],
            [
             0.4444444444444444,
             "#bd3786"
            ],
            [
             0.5555555555555556,
             "#d8576b"
            ],
            [
             0.6666666666666666,
             "#ed7953"
            ],
            [
             0.7777777777777778,
             "#fb9f3a"
            ],
            [
             0.8888888888888888,
             "#fdca26"
            ],
            [
             1,
             "#f0f921"
            ]
           ],
           "sequentialminus": [
            [
             0,
             "#0d0887"
            ],
            [
             0.1111111111111111,
             "#46039f"
            ],
            [
             0.2222222222222222,
             "#7201a8"
            ],
            [
             0.3333333333333333,
             "#9c179e"
            ],
            [
             0.4444444444444444,
             "#bd3786"
            ],
            [
             0.5555555555555556,
             "#d8576b"
            ],
            [
             0.6666666666666666,
             "#ed7953"
            ],
            [
             0.7777777777777778,
             "#fb9f3a"
            ],
            [
             0.8888888888888888,
             "#fdca26"
            ],
            [
             1,
             "#f0f921"
            ]
           ]
          },
          "colorway": [
           "#636efa",
           "#EF553B",
           "#00cc96",
           "#ab63fa",
           "#FFA15A",
           "#19d3f3",
           "#FF6692",
           "#B6E880",
           "#FF97FF",
           "#FECB52"
          ],
          "font": {
           "color": "#2a3f5f"
          },
          "geo": {
           "bgcolor": "white",
           "lakecolor": "white",
           "landcolor": "#E5ECF6",
           "showlakes": true,
           "showland": true,
           "subunitcolor": "white"
          },
          "hoverlabel": {
           "align": "left"
          },
          "hovermode": "closest",
          "mapbox": {
           "style": "light"
          },
          "paper_bgcolor": "white",
          "plot_bgcolor": "#E5ECF6",
          "polar": {
           "angularaxis": {
            "gridcolor": "white",
            "linecolor": "white",
            "ticks": ""
           },
           "bgcolor": "#E5ECF6",
           "radialaxis": {
            "gridcolor": "white",
            "linecolor": "white",
            "ticks": ""
           }
          },
          "scene": {
           "xaxis": {
            "backgroundcolor": "#E5ECF6",
            "gridcolor": "white",
            "gridwidth": 2,
            "linecolor": "white",
            "showbackground": true,
            "ticks": "",
            "zerolinecolor": "white"
           },
           "yaxis": {
            "backgroundcolor": "#E5ECF6",
            "gridcolor": "white",
            "gridwidth": 2,
            "linecolor": "white",
            "showbackground": true,
            "ticks": "",
            "zerolinecolor": "white"
           },
           "zaxis": {
            "backgroundcolor": "#E5ECF6",
            "gridcolor": "white",
            "gridwidth": 2,
            "linecolor": "white",
            "showbackground": true,
            "ticks": "",
            "zerolinecolor": "white"
           }
          },
          "shapedefaults": {
           "line": {
            "color": "#2a3f5f"
           }
          },
          "ternary": {
           "aaxis": {
            "gridcolor": "white",
            "linecolor": "white",
            "ticks": ""
           },
           "baxis": {
            "gridcolor": "white",
            "linecolor": "white",
            "ticks": ""
           },
           "bgcolor": "#E5ECF6",
           "caxis": {
            "gridcolor": "white",
            "linecolor": "white",
            "ticks": ""
           }
          },
          "title": {
           "x": 0.05
          },
          "xaxis": {
           "automargin": true,
           "gridcolor": "white",
           "linecolor": "white",
           "ticks": "",
           "title": {
            "standoff": 15
           },
           "zerolinecolor": "white",
           "zerolinewidth": 2
          },
          "yaxis": {
           "automargin": true,
           "gridcolor": "white",
           "linecolor": "white",
           "ticks": "",
           "title": {
            "standoff": 15
           },
           "zerolinecolor": "white",
           "zerolinewidth": 2
          }
         }
        },
        "title": {
         "text": "Interactive Credit Card Validation DFA"
        },
        "xaxis": {
         "showgrid": false,
         "zeroline": false
        },
        "yaxis": {
         "showgrid": false,
         "zeroline": false
        }
       }
      }
     },
     "metadata": {},
     "output_type": "display_data"
    }
   ],
   "source": [
    "# Taken from Plotly Technologies Inc. Collaborative data science. Montréal, QC, 2015. https://plot.ly.\n",
    "\n",
    "\n",
    "import plotly.graph_objects as go\n",
    "from ipywidgets import interact\n",
    "\n",
    "\n",
    "def create_interactive_dfa():\n",
    "    # Define nodes and their positions \n",
    "    nodes = {\n",
    "        \"start\": (0, 0),\n",
    "        \"potential_Amex\": (-2, -2),\n",
    "        \"Amex\": (-3, -4),\n",
    "        \"potential_MasterCard\": (2, -2),\n",
    "        \"MasterCard\": (3, -4),\n",
    "        \"Visa\": (0, -4),\n",
    "        \"invalid\": (0, -6),\n",
    "        \"Amex (pos=15, sum=0)\": (-3, -5),\n",
    "        \"MasterCard (pos=16, sum=0)\": (3, -5),\n",
    "        \"Visa (pos=13, sum13=0)\": (-1, -5),\n",
    "        \"Visa (pos=16, sum16=0)\": (1, -5)\n",
    "    }\n",
    "\n",
    "    # Define edges with labels\n",
    "    edges = [\n",
    "        (\"start\", \"potential_Amex\", \"3\",False),\n",
    "        (\"start\", \"Visa\", \"4\",False),\n",
    "        (\"start\", \"potential_MasterCard\", \"5\",False),\n",
    "        (\"start\", \"invalid\", \"[0-2,6-9]\",False),\n",
    "        (\"potential_Amex\", \"Amex\", \"[4,7]\",False),\n",
    "        (\"potential_Amex\", \"invalid\", \"[0-3,5-6,8-9]\",False),\n",
    "        (\"potential_MasterCard\", \"MasterCard\", \"[1-5]\",False),\n",
    "        (\"potential_MasterCard\", \"invalid\", \"[0,6-9]\",False),\n",
    "        (\"Amex\", \"Amex\", \"[0-9]\\n(pos<15)\", False),\n",
    "        (\"Amex\", \"Amex (pos=15, sum=0)\", \"[0-9]\\n(pos=14)\",False),\n",
    "        (\"MasterCard\", \"MasterCard\", \"[0-9]\\n(pos<16)\", False),\n",
    "        (\"MasterCard\", \"MasterCard (pos=16, sum=0)\", \"[0-9]\\n(pos=15)\",False),\n",
    "        (\"Visa\", \"Visa\", \"[0-9]\\n(pos<16)\", False),\n",
    "        (\"Visa\", \"Visa (pos=13, sum13=0)\", \"[0-9]\\n(pos=12)\",False),\n",
    "        (\"Visa\", \"Visa (pos=16, sum16=0)\", \"[0-9]\\n(pos=15)\",False),\n",
    "        (\"Amex\", \"invalid\", \"[0-9]\\n(pos>=15)\",False),\n",
    "        (\"MasterCard\", \"invalid\", \"[0-9]\\n(pos>=16)\",False),\n",
    "        (\"Visa\", \"invalid\", \"[0-9]\\n(pos>=16)\",False)\n",
    "    ]\n",
    "\n",
    "    # Create node trace\n",
    "    node_x = [pos[0] for pos in nodes.values()]\n",
    "    node_y = [pos[1] for pos in nodes.values()]\n",
    "    node_text = list(nodes.keys())\n",
    "    node_trace = go.Scatter(\n",
    "        x=node_x, y=node_y,\n",
    "        mode='markers+text',\n",
    "        text=node_text,\n",
    "        textposition=\"top center\",\n",
    "        marker=dict(size=20, color='LightSkyBlue'),\n",
    "        hoverinfo=\"text\",\n",
    "        hovertext=[f\"State: {n}\" for n in nodes]\n",
    "    )\n",
    "\n",
    "    # Create edge traces\n",
    "    edge_traces = []\n",
    "    for src, dst, label, loop in edges:\n",
    "        x0, y0 = nodes[src]\n",
    "        x1, y1 = nodes[dst]\n",
    "        edge_trace = go.Scatter(\n",
    "            x=[x0, x1, None], y=[y0, y1, None],\n",
    "            mode='lines',\n",
    "            line=dict(width=1, color='gray'),\n",
    "            hoverinfo='text',\n",
    "            hovertext=f\"Transition: {label}\"\n",
    "        )\n",
    "        edge_traces.append(edge_trace)\n",
    "\n",
    "    # Layout\n",
    "    layout = go.Layout(\n",
    "        title=\"Interactive Credit Card Validation DFA\",\n",
    "        showlegend=False,\n",
    "        hovermode='closest',\n",
    "        margin=dict(b=20, l=5, r=5, t=40),\n",
    "        xaxis=dict(showgrid=False, zeroline=False),\n",
    "        yaxis=dict(showgrid=False, zeroline=False)\n",
    "    )\n",
    "\n",
    "    # Combine traces into figure\n",
    "    fig = go.Figure(data=edge_traces + [node_trace], layout=layout)\n",
    "\n",
    "    # Function to trace DFA path (uses existing next_state function)\n",
    "    def trace_dfa_path(card_number):\n",
    "        state = (\"start\",)\n",
    "        path = [\"start\"]\n",
    "        for digit in str(card_number):\n",
    "            state = next_state(state, digit)\n",
    "            next_state_name = state[0] if state != \"invalid\" else \"invalid\"\n",
    "            if next_state_name in [\"Amex\", \"MasterCard\", \"Visa\"] and state != \"invalid\":\n",
    "                pos = state[1]\n",
    "                if next_state_name == \"Amex\" and pos == 15 and state[2] == 0:\n",
    "                    next_state_name = \"Amex (pos=15, sum=0)\"\n",
    "                elif next_state_name == \"MasterCard\" and pos == 16 and state[2] == 0:\n",
    "                    next_state_name = \"MasterCard (pos=16, sum=0)\"\n",
    "                elif next_state_name == \"Visa\" and pos == 13 and state[2] == 0:\n",
    "                    next_state_name = \"Visa (pos=13, sum13=0)\"\n",
    "                elif next_state_name == \"Visa\" and pos == 16 and state[3] == 0:\n",
    "                    next_state_name = \"Visa (pos=16, sum16=0)\"\n",
    "            path.append(next_state_name)\n",
    "        return path\n",
    "\n",
    "    # Interactive function to update visualization\n",
    "    @interact(card_number=df_test_cases['Card_Number'].tolist())\n",
    "    def update_visualization(card_number):\n",
    "        path = trace_dfa_path(card_number)\n",
    "        # Update node colors to highlight path\n",
    "        colors = ['red' if n in path else 'LightSkyBlue' for n in nodes]\n",
    "        fig.update_traces(selector=dict(mode='markers+text'), marker_color=colors)\n",
    "        # Print path for reference\n",
    "        print(f\"Path for {card_number}: {' -> '.join(path)}\")\n",
    "        fig.show()\n",
    "\n",
    "    return fig\n",
    "\n",
    "# Display the interactive DFA\n",
    "fig = create_interactive_dfa()\n",
    "fig.show()"
   ]
  }
 ],
 "metadata": {
  "kernelspec": {
   "display_name": "base",
   "language": "python",
   "name": "python3"
  },
  "language_info": {
   "codemirror_mode": {
    "name": "ipython",
    "version": 3
   },
   "file_extension": ".py",
   "mimetype": "text/x-python",
   "name": "python",
   "nbconvert_exporter": "python",
   "pygments_lexer": "ipython3",
   "version": "3.9.12"
  }
 },
 "nbformat": 4,
 "nbformat_minor": 2
}
